{
 "cells": [
  {
   "cell_type": "markdown",
   "source": [
    "-----------------------------------------------------------------------------"
   ],
   "metadata": {}
  },
  {
   "cell_type": "markdown",
   "source": [
    "<h1> MOFs CO2 working capacity prediction with LinearRegression </h1>"
   ],
   "metadata": {}
  },
  {
   "cell_type": "markdown",
   "source": [
    "------------------------------------------------------------"
   ],
   "metadata": {}
  },
  {
   "cell_type": "code",
   "execution_count": null,
   "source": [
    "import numpy as np\r\n",
    "import pandas as pd\r\n",
    "from sklearn.linear_model import LinearRegression\r\n",
    "from sklearn.model_selection import train_test_split\r\n",
    "from sklearn.metrics import mean_absolute_error"
   ],
   "outputs": [],
   "metadata": {}
  },
  {
   "cell_type": "markdown",
   "source": [
    "<h2>loading dataset</h2>"
   ],
   "metadata": {}
  },
  {
   "cell_type": "code",
   "execution_count": null,
   "source": [
    "df = pd.read_csv('Datasets/finaltrain.csv')\r\n",
    "df.head()"
   ],
   "outputs": [],
   "metadata": {}
  },
  {
   "cell_type": "markdown",
   "source": [
    "seperate label column"
   ],
   "metadata": {}
  },
  {
   "cell_type": "code",
   "execution_count": null,
   "source": [
    "df_label = df['CO2_working_capacity [mL/g]']\r\n",
    "df = df.drop(['CO2_working_capacity [mL/g]','MOFname','Unnamed: 0'],axis=1)\r\n",
    "df.head()"
   ],
   "outputs": [],
   "metadata": {}
  },
  {
   "cell_type": "markdown",
   "source": [
    "<h1>feature selection</h1>"
   ],
   "metadata": {}
  },
  {
   "cell_type": "code",
   "execution_count": null,
   "source": [
    "df_geometryprop_col = [\r\n",
    "    'surface_area [m^2/g]',\r\n",
    "    'void_fraction',\r\n",
    "    'density [g/cm^3]',\r\n",
    "    'void_volume [cm^3/g]',\r\n",
    "    'weight [u]',\r\n",
    "    'volume [A^3]',\r\n",
    "    ]\r\n",
    "df_function_col = [\r\n",
    "    'functional_groups',\r\n",
    "    'metal_linker',\r\n",
    "    'organic_linker1',\r\n",
    "    'organic_linker2',\r\n",
    "    'topology',\r\n",
    "    'CO2/N2_selectivity',\r\n",
    "    'heat_adsorption_CO2_P0.15bar_T298K [kcal/mol]',\r\n",
    "]\r\n",
    "df_selected = df[df_function_col]\r\n",
    "# df_selected.insert(\r\n",
    "#     loc = 7,\r\n",
    "#     column='organic_linker_sum',\r\n",
    "#     value= df['organic_linker1']+df['organic_linker2']\r\n",
    "# )\r\n",
    "print(df_selected.shape)\r\n",
    "df_selected.head()"
   ],
   "outputs": [],
   "metadata": {}
  },
  {
   "cell_type": "markdown",
   "source": [
    "<h2>convert to array</h2>"
   ],
   "metadata": {}
  },
  {
   "cell_type": "code",
   "execution_count": null,
   "source": [
    "df_label_array = np.array(df_label)\r\n",
    "df_array = np.array(df_selected)"
   ],
   "outputs": [],
   "metadata": {}
  },
  {
   "cell_type": "markdown",
   "source": [
    "<h2>train-test split</h2>"
   ],
   "metadata": {}
  },
  {
   "cell_type": "code",
   "execution_count": null,
   "source": [
    "X_train, X_test, y_train, y_test = train_test_split(df_array,df_label_array,test_size=0.2,random_state=123)"
   ],
   "outputs": [],
   "metadata": {}
  },
  {
   "cell_type": "markdown",
   "source": [
    "<h1> Model training </h1>"
   ],
   "metadata": {}
  },
  {
   "cell_type": "markdown",
   "source": [
    "<h2> Model 1 </h2>"
   ],
   "metadata": {}
  },
  {
   "cell_type": "code",
   "execution_count": null,
   "source": [
    "model = LinearRegression(normalize=True,fit_intercept=True)\r\n",
    "model.fit(X_train,y_train)"
   ],
   "outputs": [],
   "metadata": {}
  },
  {
   "cell_type": "code",
   "execution_count": null,
   "source": [
    "pred = model.predict(X_test)\r\n",
    "lmae = np.log(mean_absolute_error(pred,y_test))\r\n",
    "lmae"
   ],
   "outputs": [],
   "metadata": {}
  },
  {
   "cell_type": "code",
   "execution_count": null,
   "source": [
    "pred_df = pd.DataFrame([pred,y_test])\r\n",
    "pred_df.iloc[:,:5]"
   ],
   "outputs": [],
   "metadata": {}
  },
  {
   "cell_type": "code",
   "execution_count": null,
   "source": [
    "pred_df.shape"
   ],
   "outputs": [],
   "metadata": {}
  },
  {
   "cell_type": "code",
   "execution_count": null,
   "source": [
    "X2_train, X2_test, y2_train, y2_test = train_test_split(pred.reshape(-1, 1),y_test,test_size=0.2,random_state=123)"
   ],
   "outputs": [],
   "metadata": {}
  },
  {
   "cell_type": "code",
   "execution_count": null,
   "source": [
    "model2 = LinearRegression()\r\n",
    "model2.fit(X2_train,y2_train)"
   ],
   "outputs": [],
   "metadata": {}
  },
  {
   "cell_type": "code",
   "execution_count": null,
   "source": [
    "pred2 = model2.predict(X2_test)"
   ],
   "outputs": [],
   "metadata": {}
  },
  {
   "cell_type": "code",
   "execution_count": null,
   "source": [
    "lmae2 = np.log(mean_absolute_error(pred2,y2_test))\r\n",
    "lmae2"
   ],
   "outputs": [],
   "metadata": {}
  },
  {
   "cell_type": "code",
   "execution_count": null,
   "source": [],
   "outputs": [],
   "metadata": {}
  }
 ],
 "metadata": {
  "orig_nbformat": 4,
  "language_info": {
   "name": "python",
   "version": "3.8.5",
   "mimetype": "text/x-python",
   "codemirror_mode": {
    "name": "ipython",
    "version": 3
   },
   "pygments_lexer": "ipython3",
   "nbconvert_exporter": "python",
   "file_extension": ".py"
  },
  "kernelspec": {
   "name": "python3",
   "display_name": "Python 3.8.5 64-bit ('base': conda)"
  },
  "interpreter": {
   "hash": "c9e17120b38f35ca567db242fd49c376ab6d2fbeb4154db9bcfb89e8b30a5a51"
  }
 },
 "nbformat": 4,
 "nbformat_minor": 2
}