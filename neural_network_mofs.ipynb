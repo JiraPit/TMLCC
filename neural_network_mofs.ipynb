{
 "cells": [
  {
   "cell_type": "markdown",
   "metadata": {},
   "source": [
    "-----------------------------------------------------------------------------"
   ]
  },
  {
   "cell_type": "markdown",
   "metadata": {},
   "source": [
    "<h1> MOFs CO2 working capacity prediction with XGBoost </h1>"
   ]
  },
  {
   "cell_type": "markdown",
   "metadata": {},
   "source": [
    "------------------------------------------------------------"
   ]
  },
  {
   "cell_type": "code",
   "execution_count": null,
   "metadata": {},
   "outputs": [],
   "source": [
    "import numpy as np\n",
    "import pandas as pd\n",
    "import matplotlib.pyplot as plt\n",
    "from IPython.core.display import display\n",
    "from sklearn.model_selection import train_test_split\n",
    "from tensorflow.keras.utils import to_categorical\n",
    "from tensorflow.keras.models import Sequential\n",
    "from tensorflow.keras.layers import Dense, Dropout\n",
    "import tensorflow.keras.backend as KBack\n",
    "import tensorflow as tf\n",
    "from sklearn.preprocessing import StandardScaler\n",
    "from sklearn.metrics import mean_absolute_error"
   ]
  },
  {
   "cell_type": "markdown",
   "metadata": {},
   "source": [
    "<h2>loading dataset</h2>"
   ]
  },
  {
   "cell_type": "code",
   "execution_count": null,
   "metadata": {},
   "outputs": [],
   "source": [
    "df = pd.read_csv('Datasets/cif_xyz_nonfg_train.csv');df.head(3)"
   ]
  },
  {
   "cell_type": "markdown",
   "metadata": {},
   "source": [
    "seperate label column"
   ]
  },
  {
   "cell_type": "code",
   "execution_count": null,
   "metadata": {},
   "outputs": [],
   "source": [
    "df_label = df['CO2_working_capacity']\n",
    "df = df.drop(['CO2_working_capacity','MOFname'],axis=1)\n",
    "print(df.shape,' : ',df_label.shape);df.head(5)"
   ]
  },
  {
   "cell_type": "markdown",
   "metadata": {},
   "source": [
    "Normalizing functional groups"
   ]
  },
  {
   "cell_type": "code",
   "execution_count": null,
   "metadata": {},
   "outputs": [],
   "source": [
    "def check_in(pattern : str, loop : list or np.ndarray or None = df.functional_groups):\n",
    "    return [int(pattern in str(x).split('-') )for x in loop ]\n",
    "\n",
    "def count_in(pattern : str, loop : list or np.ndarray or None = df.functional_groups):\n",
    "    return [str(x).count(pattern) for x in loop]\n",
    "\n",
    "compounds = set(['SO3H','COOH','NH2','OH','CN','F','OMe','NHMe','NO2','Pr','Cl','OEt','Ph','Br','OPr','HCO','Et','Me','H','I'])\n",
    "molecules = set(['N','O','C'])\n",
    "\n",
    "func_data = {\n",
    "    f'funccheck_{compound}':check_in(compound)\n",
    "    for compound in compounds\n",
    "}\n",
    "func_data.update({\n",
    "    f'funccount_{molecule}':count_in(molecule)\n",
    "    for molecule in molecules\n",
    "})\n",
    "func_data.update({\n",
    "    'num_func': [int('-' in str(x)) for x in df.functional_groups]\n",
    "})\n",
    "\n",
    "df.functional_groups = df.functional_groups.astype(\"category\").cat.codes\n",
    "func_df = pd.DataFrame(func_data);func_df\n"
   ]
  },
  {
   "cell_type": "markdown",
   "metadata": {},
   "source": [
    "Add more feature"
   ]
  },
  {
   "cell_type": "code",
   "execution_count": null,
   "metadata": {},
   "outputs": [],
   "source": [
    "df.insert(\n",
    "    loc=0,\n",
    "    column='difatom',\n",
    "    value=df['sumatom']-df['C+O+H']\n",
    ")\n",
    "df.insert(\n",
    "    loc=0,\n",
    "    column='surface_to_volume',\n",
    "    value=df['surface_area']/df['volume']\n",
    ")\n",
    "df.insert(\n",
    "    loc=0,\n",
    "    column='cubic_surface_area',\n",
    "    value=((df['volume']**(1/3))**2)*6\n",
    ")\n",
    "df"
   ]
  },
  {
   "cell_type": "markdown",
   "metadata": {},
   "source": [
    "One-hotting metal/organic linkers and topology"
   ]
  },
  {
   "cell_type": "code",
   "execution_count": null,
   "metadata": {},
   "outputs": [],
   "source": [
    "metal_linker_int = df['metal_linker']-1\n",
    "metal_one_hot = to_categorical(metal_linker_int,num_classes=12,dtype='int8')\n",
    "metal_onehot_df = pd.DataFrame(metal_one_hot,columns=['ml_' + str(num) for num in range(1,13)])\n",
    "print(metal_onehot_df.shape)\n",
    "display(metal_onehot_df.head(2))\n",
    "#---------------------------------------\n",
    "org1_int = df['organic_linker1']-1\n",
    "org1_one_hot = to_categorical(org1_int,num_classes=59,dtype='int8')\n",
    "org1_onehot_df = pd.DataFrame(org1_one_hot,columns=['ol1_' + str(num) for num in range(1,60)])\n",
    "print(org1_onehot_df.shape)\n",
    "display(org1_onehot_df.head(2))\n",
    "#--------------------------------------\n",
    "org2_int = df['organic_linker2']-1\n",
    "org2_one_hot = to_categorical(org2_int,num_classes=59,dtype='int8')\n",
    "org2_onehot_df = pd.DataFrame(org2_one_hot,columns=['ol2_' + str(num) for num in range(1,60)])\n",
    "print(org2_onehot_df.shape)\n",
    "display(org2_onehot_df.head(2))\n",
    "#--------------------------------------\n",
    "top_int = df['topology']\n",
    "top_one_hot = to_categorical(top_int,dtype='int8')\n",
    "top_onehot_df = pd.DataFrame(top_one_hot,columns=['top_' + str(num) for num in range(0,11)])\n",
    "print(top_onehot_df.shape)\n",
    "display(top_onehot_df.head(2))"
   ]
  },
  {
   "cell_type": "code",
   "execution_count": null,
   "metadata": {},
   "outputs": [],
   "source": [
    "def onehot_inplace(\n",
    "    field : str,\n",
    "    one_hot : pd.DataFrame,\n",
    "    dataframe : pd.DataFrame or None = df):\n",
    "        dataframe[field] = dataframe[field].astype(object)\n",
    "        dataframe[field] = list(map(lambda x: np.array(x) ,np.array(one_hot)))\n",
    "    "
   ]
  },
  {
   "cell_type": "code",
   "execution_count": null,
   "metadata": {},
   "outputs": [],
   "source": [
    "onehot_inplace(field = 'metal_linker',one_hot=metal_onehot_df)\n",
    "onehot_inplace(field = 'organic_linker1',one_hot=org1_onehot_df)\n",
    "onehot_inplace(field = 'organic_linker2',one_hot=org2_onehot_df)\n",
    "onehot_inplace(field = 'topology',one_hot=top_onehot_df)\n",
    "df"
   ]
  },
  {
   "cell_type": "markdown",
   "metadata": {},
   "source": [
    "<h1>Feature selection</h1>"
   ]
  },
  {
   "cell_type": "code",
   "execution_count": null,
   "metadata": {},
   "outputs": [],
   "source": [
    "df_col = dict(\n",
    "    df_geometry_col = [\n",
    "    'surface_area',\n",
    "    'void_fraction',\n",
    "    'density',\n",
    "    'void_volume',\n",
    "    'weight',\n",
    "    'volume',\n",
    "    ],\n",
    "    df_function_col = [\n",
    "    'functional_groups',\n",
    "    'metal_linker',\n",
    "    'organic_linker1',\n",
    "    'organic_linker2',\n",
    "    'topology',\n",
    "    'CO2/N2_selectivity',\n",
    "    'heat_adsorption_CO2_P0.15bar_T298K',\n",
    "    ],\n",
    "    df_cif_col = [\n",
    "    'cell_length_a',\n",
    "    'cell_length_b',\n",
    "    'cell_length_c',\n",
    "    'cell_angle_alpha',\n",
    "    'cell_angle_beta',\n",
    "    'cell_angle_gamma',\n",
    "    'sum_charge',\n",
    "    # 'mean_charge',\n",
    "    ],\n",
    "    df_xyz_col = [\n",
    "    'Lattice1',\n",
    "    # 'Lattice2',\n",
    "    # 'Lattice3',\n",
    "    'Lattice4',\n",
    "    'Lattice5',\n",
    "    # 'Lattice6', \n",
    "    'Lattice7',\n",
    "    'Lattice8',\n",
    "    'Lattice9',\n",
    "    # 'C+O+H',\n",
    "    'C',\n",
    "    'O',\n",
    "    'H',\n",
    "    'sumatom',\n",
    "    ],\n",
    "    df_add_col = [\n",
    "    'surface_to_volume',\n",
    "    'difatom',\n",
    "    'cubic_surface_area'\n",
    "    ]\n",
    ")\n",
    "\n",
    "df_selected = df[sum(df_col.values(),[])]\n",
    "print(df_selected.shape)\n",
    "df_selected = pd.concat([\n",
    "    df_selected,\n",
    "    # metal_onehot_df,\n",
    "    # org1_onehot_df,\n",
    "    # org2_onehot_df,\n",
    "    # top_onehot_df,\n",
    "    func_df\n",
    "    ],axis=1)\n",
    "print(df_selected.shape);df_selected.head()"
   ]
  },
  {
   "cell_type": "markdown",
   "metadata": {},
   "source": [
    "<h2>convert to array</h2>"
   ]
  },
  {
   "cell_type": "code",
   "execution_count": null,
   "metadata": {},
   "outputs": [],
   "source": [
    "scaler = StandardScaler()\n",
    "\n",
    "onehotted_columns = ['topology','metal_linker','organic_linker1','organic_linker2']\n",
    "raw_columns = [x for x in list(df_selected.columns) if x not in onehotted_columns]\n",
    "\n",
    "df_selected[raw_columns] = scaler.fit_transform(df_selected[raw_columns])\n",
    "df_selected.head()"
   ]
  },
  {
   "cell_type": "code",
   "execution_count": null,
   "metadata": {},
   "outputs": [],
   "source": [
    "df_selected = df_selected.astype(object);df_selected.dtypes"
   ]
  },
  {
   "cell_type": "code",
   "execution_count": null,
   "metadata": {},
   "outputs": [],
   "source": [
    "ij = df_selected.shape\n",
    "for i in range(0,ij[0]):\n",
    "    for j in range(0,ij[1]):\n",
    "        df_selected.iat[i,j] = KBack.constant(df_selected.iat[i,j])\n",
    "df_selected.head()"
   ]
  },
  {
   "cell_type": "code",
   "execution_count": null,
   "metadata": {},
   "outputs": [],
   "source": [
    "import joblib\n",
    "df_selected = joblib.load('df_tensor.pkl')\n",
    "df_selected"
   ]
  },
  {
   "cell_type": "code",
   "execution_count": null,
   "metadata": {},
   "outputs": [],
   "source": [
    "df_label_array = np.array(df_label)\n",
    "df_array = np.array(df_selected)\n",
    "f'{df_label_array.shape} : {df_array.shape}'"
   ]
  },
  {
   "cell_type": "code",
   "execution_count": null,
   "metadata": {},
   "outputs": [],
   "source": [
    "df_tensor = KBack.constant(df_array)"
   ]
  },
  {
   "cell_type": "markdown",
   "metadata": {},
   "source": [
    "<h2>train-test split</h2>"
   ]
  },
  {
   "cell_type": "code",
   "execution_count": null,
   "metadata": {},
   "outputs": [],
   "source": [
    "X_train, X_test, y_train, y_test = train_test_split(df_array,df_label_array,test_size=0.1,random_state=123)\n",
    "X_train, X_val, y_train, y_val = train_test_split(X_train,y_train,test_size=0.15,random_state=123)\n",
    "print(f'train : {X_train.shape}\\nval : {X_val.shape}\\ntest : {X_test.shape}')"
   ]
  },
  {
   "cell_type": "code",
   "execution_count": null,
   "metadata": {},
   "outputs": [],
   "source": [
    "X_train, X_test, y_train, y_test = train_test_split(df_array,df_label_array,test_size=0.1,random_state=123)\n",
    "print(f'train : {X_train.shape}\\ntest : {X_test.shape}')"
   ]
  },
  {
   "cell_type": "markdown",
   "metadata": {},
   "source": [
    "<h1> Model training </h1>"
   ]
  },
  {
   "cell_type": "code",
   "execution_count": null,
   "metadata": {},
   "outputs": [],
   "source": [
    "model = Sequential([\n",
    "    Dense(64, input_shape=(198,),activation='relu'),\n",
    "    Dropout(0.3),\n",
    "    Dense(128,activation='relu'),\n",
    "    Dropout(0.3),\n",
    "    Dense(256,activation='relu'),\n",
    "    Dropout(0.3),\n",
    "    Dense(512,activation='relu'),\n",
    "    Dropout(0.3),\n",
    "    Dense(1),\n",
    "])"
   ]
  },
  {
   "cell_type": "code",
   "execution_count": null,
   "metadata": {},
   "outputs": [],
   "source": [
    "model.summary()"
   ]
  },
  {
   "cell_type": "code",
   "execution_count": null,
   "metadata": {},
   "outputs": [],
   "source": [
    "model.compile(\n",
    "    optimizer='adam',\n",
    "    loss='mae',\n",
    "    metrics=['mae'],\n",
    "    )"
   ]
  },
  {
   "cell_type": "code",
   "execution_count": null,
   "metadata": {},
   "outputs": [],
   "source": [
    "model.fit(\n",
    "    X_train,\n",
    "    y_train,\n",
    "    epochs=500,\n",
    "    batch_size= 1000,\n",
    "    )"
   ]
  },
  {
   "cell_type": "code",
   "execution_count": null,
   "metadata": {},
   "outputs": [],
   "source": [
    "pred = model.predict(X_test);pred = pred.reshape(6859);np.log10(mean_absolute_error(y_test,pred))"
   ]
  },
  {
   "cell_type": "code",
   "execution_count": null,
   "metadata": {},
   "outputs": [],
   "source": []
  },
  {
   "cell_type": "code",
   "execution_count": null,
   "metadata": {},
   "outputs": [],
   "source": [
    "pred_df = pd.DataFrame([pred,y_test]).T;pred_df"
   ]
  },
  {
   "cell_type": "code",
   "execution_count": null,
   "metadata": {},
   "outputs": [],
   "source": [
    "%matplotlib inline\n",
    "plt.scatter(pred_df[0],pred_df[1]-(pred_df[0]));plt.show()"
   ]
  },
  {
   "cell_type": "code",
   "execution_count": null,
   "metadata": {},
   "outputs": [],
   "source": [
    "plt.scatter(pred_df[0],pred_df[1]);plt.show()"
   ]
  },
  {
   "cell_type": "markdown",
   "metadata": {},
   "source": [
    "<h1>Comparing</h1>"
   ]
  },
  {
   "cell_type": "code",
   "execution_count": null,
   "metadata": {},
   "outputs": [],
   "source": [
    "pred_df_plot = pred_df[pred_df[0]>400]\n",
    "tomuch = len(pred_df_plot[(pred_df_plot[1]-pred_df_plot[0]).astype(int)<0])\n",
    "tolittle = len(pred_df_plot[(pred_df_plot[1]-pred_df_plot[0]).astype(int)>0])\n",
    "equal = len(pred_df_plot[(pred_df_plot[1]-pred_df_plot[0]).astype(int)==0])\n",
    "plt.bar(['tomuch','tolittle','equal'],[tomuch,tolittle,equal])"
   ]
  },
  {
   "cell_type": "markdown",
   "metadata": {},
   "source": [
    "<h1>Evaluation</h1>"
   ]
  },
  {
   "cell_type": "code",
   "execution_count": null,
   "metadata": {},
   "outputs": [],
   "source": [
    "testset = pd.read_csv('Datasets/cif_xyz_nonfg_test.csv')\n",
    "print(testset.shape);testset.head()"
   ]
  },
  {
   "cell_type": "code",
   "execution_count": null,
   "metadata": {},
   "outputs": [],
   "source": [
    "test_func_data = {\n",
    "    f'funccheck_{compound}':check_in(compound,loop=testset.functional_groups)\n",
    "    for compound in compounds\n",
    "}\n",
    "test_func_data.update({\n",
    "    f'funccount_{molecule}':count_in(molecule,loop=testset.functional_groups)\n",
    "    for molecule in molecules\n",
    "})\n",
    "test_func_data.update({\n",
    "    'num_func': [int('-' in str(x)) for x in testset.functional_groups]\n",
    "})\n",
    "testset.functional_groups = testset.functional_groups.astype(\"category\").cat.codes\n",
    "test_func_df = pd.DataFrame(test_func_data);test_func_df.head(5)"
   ]
  },
  {
   "cell_type": "code",
   "execution_count": null,
   "metadata": {},
   "outputs": [],
   "source": [
    "test_metal_linker_int = testset['metal_linker']-1\n",
    "test_metal_one_hot = to_categorical(test_metal_linker_int,num_classes=12,dtype='int8')\n",
    "test_metal_onehot_df = pd.DataFrame(test_metal_one_hot,columns=['ml_' + str(num) for num in range(1,13)])\n",
    "display(test_metal_onehot_df.head(3))\n",
    "#-------------------------------------------------\n",
    "test_org1_int = testset['organic_linker1']-1\n",
    "test_org1_one_hot = to_categorical(test_org1_int,num_classes=59,dtype='int8')\n",
    "test_org1_onehot_df = pd.DataFrame(test_org1_one_hot,columns=['ol1_' + str(num) for num in range(1,60)])\n",
    "display(test_org1_onehot_df.head(3))\n",
    "#-------------------------------------------------\n",
    "test_org2_int = testset['organic_linker2']-1\n",
    "test_org2_one_hot = to_categorical(test_org2_int,num_classes=59,dtype='int8')\n",
    "test_org2_onehot_df = pd.DataFrame(test_org2_one_hot,columns=['ol2_' + str(num) for num in range(1,60)])\n",
    "display(test_org2_onehot_df.head(3))\n",
    "#-------------------------------------------------\n",
    "test_top_int = testset['topology']\n",
    "test_top_one_hot = to_categorical(test_top_int,dtype='int8')\n",
    "test_top_onehot_df = pd.DataFrame(test_top_one_hot,columns=['top_' + str(num) for num in range(0,11)])\n",
    "display(test_top_onehot_df.head(3))"
   ]
  },
  {
   "cell_type": "code",
   "execution_count": null,
   "metadata": {},
   "outputs": [],
   "source": [
    "testset.insert(\n",
    "    loc=33,\n",
    "    column='difatom',\n",
    "    value=testset['sumatom']-testset['C+O+H']\n",
    ")\n",
    "testset.insert(\n",
    "    loc=0,\n",
    "    column='surface_to_volume',\n",
    "    value=testset['surface_area']/testset['volume']\n",
    ")\n",
    "testset.insert(\n",
    "    loc=0,\n",
    "    column='cubic_surface_area',\n",
    "    value=((testset['volume']**(1/3))**2)*6\n",
    ")\n",
    "testset.void_volume = testset.void_volume**2\n",
    "testset.surface_area = (testset.surface_area**2)"
   ]
  },
  {
   "cell_type": "code",
   "execution_count": null,
   "metadata": {},
   "outputs": [],
   "source": [
    "testset = testset[sum(df_col.values(),[])]\n",
    "testset = pd.concat([testset,\n",
    "test_metal_onehot_df,\n",
    "test_org1_onehot_df,\n",
    "test_org2_onehot_df,\n",
    "test_top_onehot_df,\n",
    "test_func_df\n",
    "],axis=1);testset.head(3)"
   ]
  },
  {
   "cell_type": "markdown",
   "metadata": {},
   "source": [
    "check validation"
   ]
  },
  {
   "cell_type": "code",
   "execution_count": null,
   "metadata": {},
   "outputs": [],
   "source": [
    "print(f'{len(testset.columns)} : {len(df_selected.columns)}')\n",
    "if(len(testset.columns)==len(df_selected.columns)):\n",
    "    print(all(testset.columns == df_selected.columns))\n",
    "    print(all(testset.dtypes == df_selected.dtypes))\n",
    "else:print(False)"
   ]
  },
  {
   "cell_type": "code",
   "execution_count": null,
   "metadata": {},
   "outputs": [],
   "source": [
    "testset_array = np.array(testset);testset.shape"
   ]
  },
  {
   "cell_type": "markdown",
   "metadata": {},
   "source": [
    "predict"
   ]
  },
  {
   "cell_type": "code",
   "execution_count": null,
   "metadata": {},
   "outputs": [],
   "source": [
    "test_pred = xg_reg1.predict(testset_array);test_pred"
   ]
  },
  {
   "cell_type": "markdown",
   "metadata": {},
   "source": [
    "convert to dataframe"
   ]
  },
  {
   "cell_type": "code",
   "execution_count": null,
   "metadata": {},
   "outputs": [],
   "source": [
    "submission = pd.DataFrame({\n",
    "    \"id\": [str(i) for i in range(68614,85614)],\n",
    "    \"CO2_working_capacity [mL/g]\":test_pred\n",
    "    })\n",
    "submission.head()"
   ]
  },
  {
   "cell_type": "markdown",
   "metadata": {},
   "source": [
    "save csv"
   ]
  },
  {
   "cell_type": "code",
   "execution_count": null,
   "metadata": {},
   "outputs": [],
   "source": [
    "submission.to_csv('submission.csv',index=False,float_format='%.7f')"
   ]
  },
  {
   "cell_type": "markdown",
   "metadata": {},
   "source": [
    "--------------------------------------------------------------------------------------------"
   ]
  }
 ],
 "metadata": {
  "interpreter": {
   "hash": "e9c3d9f32e55cdc733fe9a2b7582dc11e53c3898d7b8876b4f2cc2adebbdd647"
  },
  "kernelspec": {
   "display_name": "Python 3.8.8 64-bit ('base': conda)",
   "name": "python3"
  },
  "language_info": {
   "codemirror_mode": {
    "name": "ipython",
    "version": 3
   },
   "file_extension": ".py",
   "mimetype": "text/x-python",
   "name": "python",
   "nbconvert_exporter": "python",
   "pygments_lexer": "ipython3",
   "version": "3.8.8"
  },
  "orig_nbformat": 4
 },
 "nbformat": 4,
 "nbformat_minor": 2
}
