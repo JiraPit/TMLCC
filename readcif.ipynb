{
 "cells": [
  {
   "cell_type": "code",
   "execution_count": null,
   "metadata": {},
   "outputs": [],
   "source": [
    "import os\n",
    "import pandas as pd\n",
    "from typing import (\n",
    "    List,\n",
    "    Tuple\n",
    ")\n",
    "from abc import ABC, abstractmethod\n",
    "from pydantic import BaseModel"
   ]
  },
  {
   "cell_type": "code",
   "execution_count": null,
   "metadata": {},
   "outputs": [],
   "source": [
    "class AbstractAdapter(ABC):\n",
    "    @abstractmethod\n",
    "    def extract(self):\n",
    "        \"\"\"\n",
    "        Extract input data\n",
    "        \"\"\"\n",
    "\n",
    "    def tranform(self):\n",
    "        \"\"\"\n",
    "        Tranformed data into desired format\n",
    "        \"\"\"\n",
    "\n",
    "    def load(self):\n",
    "        \"\"\"\n",
    "        Load data to next step\n",
    "        \"\"\"\n",
    "\n",
    "    @abstractmethod\n",
    "    def apply(self):\n",
    "        \"\"\"\n",
    "        Apply data ETL process\n",
    "        \"\"\"\n",
    "        pass"
   ]
  },
  {
   "cell_type": "code",
   "execution_count": null,
   "metadata": {},
   "outputs": [],
   "source": [
    "class CIF2PandasAdapterOutput(BaseModel):\n",
    "    \"\"\"\n",
    "    Set up desired output\n",
    "    \"\"\"\n",
    "    \n",
    "    metadata: pd.DataFrame\n",
    "    loops: List[pd.DataFrame]\n",
    "\n",
    "    class Config:\n",
    "        \"\"\"\n",
    "        Set some config to allow pd.DataFrame to BaseModel\n",
    "        \"\"\"\n",
    "        arbitrary_types_allowed = True"
   ]
  },
  {
   "cell_type": "code",
   "execution_count": null,
   "metadata": {},
   "outputs": [],
   "source": [
    "class CIF2PandasAdapter(AbstractAdapter):\n",
    "    \"\"\"\n",
    "    An adapter to convert CIF into Pandas DataFrames\n",
    "    \"\"\"\n",
    "\n",
    "    @staticmethod\n",
    "    def load_cif(cif_filepath: str) -> List[str]:\n",
    "        \"\"\"\n",
    "        Read CIF file as String and split looping sections\n",
    "        \"\"\"\n",
    "        with open(cif_filepath) as f:\n",
    "            filename = f.readline().strip()\n",
    "            dataframes = []\n",
    "            dataframe = []\n",
    "            for line in f.readlines():\n",
    "                columns = [\n",
    "                    l.strip() for l in line.strip().split(\" \") if l and (l != \"\")\n",
    "                ]\n",
    "                if columns:\n",
    "                    if columns[0] == \"loop_\":\n",
    "                        dataframes.append(dataframe)\n",
    "                        dataframe = []\n",
    "                    else:\n",
    "                        if \"fapswitch\" not in columns and columns != [\"\"]:\n",
    "                            dataframe.append(columns)\n",
    "            dataframes.append(dataframe)\n",
    "\n",
    "        return dataframes\n",
    "\n",
    "    @staticmethod\n",
    "    def get_metadata(dataframes: List[List[str]]) -> pd.DataFrame:\n",
    "        \"\"\"\n",
    "        Get metadata of a CIF file\n",
    "        \"\"\"\n",
    "        return pd.DataFrame(dataframes[0])\n",
    "\n",
    "    @staticmethod\n",
    "    def get_loops(dataframes: List[List[str]]) -> List[pd.DataFrame]:\n",
    "        \"\"\"\n",
    "        Get loops\n",
    "        \"\"\"\n",
    "        loops = []\n",
    "        for dataframe in dataframes[1:]:\n",
    "            loop = pd.DataFrame(dataframe)\n",
    "            loop_fixed = loop[loop[1].notna()]\n",
    "            loop_fixed.columns = loop[loop[1].isna()][0]\n",
    "            loops.append(loop_fixed)\n",
    "\n",
    "        return loops\n",
    "\n",
    "    def extract(self, cif_filepath: str) -> List[str]:\n",
    "        \"\"\"\n",
    "        Read filepath and return sectioned string\n",
    "        \"\"\"\n",
    "        return self.load_cif(cif_filepath)\n",
    "\n",
    "    def transform(self, cif_list: List[str]) -> Tuple[pd.DataFrame, List[pd.DataFrame]]:\n",
    "        \"\"\"\n",
    "        Transform CIF text into datafram\n",
    "        :params:\n",
    "        cif_list: List of sectioned CIF text\n",
    "        :return:\n",
    "        Tuple of :\n",
    "        (\n",
    "            dataframe of CIF metadata,\n",
    "            Tuple of (\n",
    "                dataframe of loop_1,\n",
    "                dataframe of loop_2,\n",
    "            )\n",
    "        )\n",
    "        \"\"\"\n",
    "        metadata = self.get_metadata(cif_list)\n",
    "        extract_loops = self.get_loops(cif_list)\n",
    "        return metadata, extract_loops\n",
    "\n",
    "    def load(\n",
    "        self, metadata: pd.DataFrame, extract_loops: List[pd.DataFrame]\n",
    "    ) -> CIF2PandasAdapterOutput:\n",
    "        \"\"\"\n",
    "        Load tranformed data into desired output\n",
    "        \"\"\"\n",
    "        output = CIF2PandasAdapterOutput(metadata=metadata, loops=extract_loops)\n",
    "        return output\n",
    "\n",
    "    def apply(self, cif_filepath: str) -> List[pd.DataFrame]:\n",
    "        \"\"\"\n",
    "        Apply ETL pipeline\n",
    "        \"\"\"\n",
    "        # Extract\n",
    "        cif_list = self.extract(cif_filepath)\n",
    "\n",
    "        # Transform\n",
    "        metadata = self.get_metadata(cif_list)\n",
    "        extract_loops = self.get_loops(cif_list)\n",
    "\n",
    "        # Load\n",
    "        output = self.load(metadata, extract_loops)\n",
    "\n",
    "        return output"
   ]
  },
  {
   "cell_type": "code",
   "execution_count": null,
   "metadata": {},
   "outputs": [],
   "source": [
    "adapter = CIF2PandasAdapter()\n",
    "output = adapter.apply(\"Datasets/mof_cif_train/mof_unit_1.cif\")"
   ]
  },
  {
   "cell_type": "code",
   "execution_count": null,
   "metadata": {},
   "outputs": [],
   "source": [
    "output.metadata"
   ]
  },
  {
   "cell_type": "code",
   "execution_count": null,
   "metadata": {},
   "outputs": [],
   "source": [
    "output.loops[0]"
   ]
  },
  {
   "cell_type": "code",
   "execution_count": null,
   "metadata": {},
   "outputs": [],
   "source": [
    "output.loops[1]"
   ]
  },
  {
   "cell_type": "code",
   "execution_count": null,
   "metadata": {},
   "outputs": [],
   "source": []
  }
 ],
 "metadata": {
  "interpreter": {
   "hash": "c9e17120b38f35ca567db242fd49c376ab6d2fbeb4154db9bcfb89e8b30a5a51"
  },
  "kernelspec": {
   "display_name": "Python 3.8.5 64-bit ('base': conda)",
   "name": "python3"
  },
  "language_info": {
   "codemirror_mode": {
    "name": "ipython",
    "version": 3
   },
   "file_extension": ".py",
   "mimetype": "text/x-python",
   "name": "python",
   "nbconvert_exporter": "python",
   "pygments_lexer": "ipython3",
   "version": "3.8.5"
  },
  "orig_nbformat": 4
 },
 "nbformat": 4,
 "nbformat_minor": 2
}
